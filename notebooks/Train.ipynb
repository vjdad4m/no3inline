{
 "cells": [
  {
   "cell_type": "code",
   "execution_count": 67,
   "metadata": {},
   "outputs": [],
   "source": [
    "import torch\n",
    "import torch.nn as nn\n",
    "import torch.optim as optim\n",
    "import numpy as np\n",
    "import tqdm\n",
    "import no3inline\n",
    "import visualize\n",
    "from IPython.display import clear_output"
   ]
  },
  {
   "cell_type": "code",
   "execution_count": 68,
   "metadata": {},
   "outputs": [],
   "source": [
    "N = 10\n",
    "\n",
    "\"\"\" HYPERPARAMETERS \"\"\"\n",
    "LEARNING_RATE = 0.01\n",
    "N_ROLLOUTS = 100\n",
    "N_EPOCHS = 1000\n",
    "N_ITER = 100\n",
    "TOP_K_PERCENT = 0.05"
   ]
  },
  {
   "cell_type": "code",
   "execution_count": 69,
   "metadata": {},
   "outputs": [],
   "source": [
    "class Generator(nn.Module):\n",
    "    def __init__(self):\n",
    "        super(Generator, self).__init__()\n",
    "        self.conv1 = nn.Conv2d(1 , 64, kernel_size=3, padding=1)\n",
    "        self.conv2 = nn.Conv2d(64, 64, kernel_size=3, padding=1)\n",
    "        self.conv3 = nn.Conv2d(64, 1, kernel_size=3, padding=1)\n",
    "        self.flatten = nn.Flatten()\n",
    "        self.linear1 = nn.Linear(N * N, N * N)\n",
    "        self.dropout = nn.Dropout(0.2)\n",
    "\n",
    "    def forward(self, x):\n",
    "        x = torch.relu(self.conv1(x))\n",
    "        x = torch.relu(self.conv2(x))\n",
    "        x = torch.relu(self.conv3(x))\n",
    "        x = self.flatten(x)\n",
    "        x = self.dropout(x)\n",
    "        x = self.linear1(x)\n",
    "        return torch.softmax(x, dim=-1)"
   ]
  },
  {
   "cell_type": "code",
   "execution_count": 70,
   "metadata": {},
   "outputs": [
    {
     "data": {
      "image/png": "[encoded data removed]",
      "text/plain": [
       "<Figure size 800x800 with 1 Axes>"
      ]
     },
     "metadata": {},
     "output_type": "display_data"
    },
    {
     "name": "stderr",
     "output_type": "stream",
     "text": [
      "Loss.: 2.4089 Best reward.: 12.8977 Number of lines taken out.: 15:   0%|          | 1/1000 [00:06<1:43:55,  6.24s/it]"
     ]
    },
    {
     "name": "stdout",
     "output_type": "stream",
     "text": [
      "2\n"
     ]
    }
   ],
   "source": [
    "device = 'cuda' if torch.cuda.is_available() else 'cpu'\n",
    "print(f'{device = }')\n",
    "\n",
    "model = Generator().to(device)\n",
    "optimizer = optim.Adam(model.parameters(), lr=LEARNING_RATE)\n",
    "criterion = nn.CrossEntropyLoss()\n",
    "\n",
    "def calculate_reward(state_list):\n",
    "    reward=0\n",
    "    weight=1\n",
    "    for state in state_list:\n",
    "        state=state.reshape((N, N))\n",
    "        reward+=no3inline.calculate_reward(state)*weight\n",
    "        weight*=0.9\n",
    "    return reward\n",
    "\n",
    "def generate_rollout(model, N, device):\n",
    "    states = [torch.zeros((N * N)).float()]\n",
    "    \n",
    "    for _ in range(2 * N):\n",
    "        next_state_probabilities = model(states[-1].reshape((1, N, N)).to(device)).cpu().detach()[0]\n",
    "        next_state_probabilities[states[-1] == 1.0] = float('-inf')\n",
    "        next_state_probabilities = torch.softmax(torch.flatten(next_state_probabilities), dim=-1)\n",
    "        \n",
    "        action = torch.multinomial(next_state_probabilities, num_samples=1).item()\n",
    "        new_state = states[-1].clone()\n",
    "        new_state[action] = 1\n",
    "        \n",
    "        states.append(new_state)\n",
    "    reward = calculate_reward(states)\n",
    "    return states, reward\n",
    "\n",
    "def get_training_data(top_k, N, device):\n",
    "    return [\n",
    "        tensor_from_rollout(rollout[0], N).to(device)\n",
    "        for rollout in top_k\n",
    "    ]\n",
    "\n",
    "def tensor_from_rollout(rollout, N):\n",
    "    stack = torch.stack(rollout).reshape((len(rollout), N, N))\n",
    "    tensor_list = torch.zeros((2, len(rollout) - 1, N, N))\n",
    "    tensor_list[0] = stack[:-1]\n",
    "    tensor_list[1] = stack[1:]\n",
    "    return tensor_list\n",
    "\n",
    "def train_epoch(data, model, criterion, optimizer, N):\n",
    "    epoch_loss = []\n",
    "    for X, y in data:\n",
    "        optimizer.zero_grad()\n",
    "        output = model(X.reshape((2 * N, 1, N, N))).reshape((2 * N, N, N))\n",
    "        loss = criterion(output, y)\n",
    "        loss.backward()\n",
    "        optimizer.step()\n",
    "        epoch_loss.append(loss.item())\n",
    "    return np.mean(epoch_loss)\n",
    "\n",
    "rollouts = []\n",
    "tq = tqdm.trange(N_EPOCHS)\n",
    "for _ in tq:\n",
    "    rollouts.extend([generate_rollout(model, N, device) for _ in range(N_ROLLOUTS)])\n",
    "    rollouts.sort(key=lambda x: x[1])\n",
    "    \n",
    "    top_k = rollouts[:int(N_ROLLOUTS * TOP_K_PERCENT)]\n",
    "    best_reward = top_k[0][1]\n",
    "    \n",
    "    data = get_training_data(top_k, N, device)\n",
    "    losses = [train_epoch(data, model, criterion, optimizer, N) for _ in range(N_ITER)]\n",
    "    \n",
    "    tq.set_description(f'Loss.: {np.mean(losses):.4f} Best reward.: {best_reward:.4f} Number of lines taken out.: {no3inline.calculate_reward(top_k[0][0][-1].reshape((N,N)))}')\n",
    "    clear_output(wait=True)\n",
    "    visualize.visualize_grid(top_k[0][0][-1].reshape((N,N)))\n",
    "    rollouts = rollouts[:N * N_ROLLOUTS * 4]"
   ]
  }
 ],
 "metadata": {
  "kernelspec": {
   "display_name": "Python 3",
   "language": "python",
   "name": "python3"
  },
  "language_info": {
   "codemirror_mode": {
    "name": "ipython",
    "version": 3
   },
   "file_extension": ".py",
   "mimetype": "text/x-python",
   "name": "python",
   "nbconvert_exporter": "python",
   "pygments_lexer": "ipython3",
   "version": "3.10.11"
  },
  "orig_nbformat": 4
 },
 "nbformat": 4,
 "nbformat_minor": 2
}
