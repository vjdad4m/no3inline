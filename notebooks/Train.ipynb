{
 "cells": [
  {
   "cell_type": "code",
   "execution_count": 17,
   "metadata": {},
   "outputs": [],
   "source": [
    "import torch\n",
    "import torch.nn as nn\n",
    "import torch.optim as optim\n",
    "import numpy as np\n",
    "import tqdm\n",
    "import no3inline\n",
    "import visualize\n",
    "from IPython.display import clear_output"
   ]
  },
  {
   "cell_type": "code",
   "execution_count": 18,
   "metadata": {},
   "outputs": [],
   "source": [
    "N = 10\n",
    "\n",
    "\"\"\" HYPERPARAMETERS \"\"\"\n",
    "LEARNING_RATE = 0.01\n",
    "N_ROLLOUTS = 100\n",
    "N_EPOCHS = 1000\n",
    "N_ITER = 100\n",
    "TOP_K_PERCENT = 0.05"
   ]
  },
  {
   "cell_type": "code",
   "execution_count": 19,
   "metadata": {},
   "outputs": [],
   "source": [
    "class Generator(nn.Module):\n",
    "    def __init__(self):\n",
    "        super(Generator, self).__init__()\n",
    "        self.conv1 = nn.Conv2d(1 , 64, kernel_size=3, padding=1)\n",
    "        self.conv2 = nn.Conv2d(64, 64, kernel_size=3, padding=1)\n",
    "        self.conv3 = nn.Conv2d(64, 1, kernel_size=3, padding=1)\n",
    "        self.flatten = nn.Flatten()\n",
    "        self.linear1 = nn.Linear(N * N, N * N)\n",
    "        self.dropout = nn.Dropout(0.2)\n",
    "\n",
    "    def forward(self, x):\n",
    "        x = torch.relu(self.conv1(x))\n",
    "        x = torch.relu(self.conv2(x))\n",
    "        x = torch.relu(self.conv3(x))\n",
    "        x = self.flatten(x)\n",
    "        x = self.dropout(x)\n",
    "        x = self.linear1(x)\n",
    "        return torch.softmax(x, dim=-1)"
   ]
  },
  {
   "cell_type": "code",
   "execution_count": 20,
   "metadata": {},
   "outputs": [
    {
     "name": "stdout",
     "output_type": "stream",
     "text": [
      "device = 'cpu'\n"
     ]
    },
    {
     "name": "stderr",
     "output_type": "stream",
     "text": [
      "  0%|          | 0/1000 [00:00<?, ?it/s]"
     ]
    },
    {
     "name": "stderr",
     "output_type": "stream",
     "text": [
      "loss.: 1.8607 best reward.: 5:   0%|          | 1/1000 [00:33<9:18:32, 33.55s/it]\n"
     ]
    },
    {
     "ename": "KeyboardInterrupt",
     "evalue": "",
     "output_type": "error",
     "traceback": [
      "\u001b[1;31m---------------------------------------------------------------------------\u001b[0m",
      "\u001b[1;31mKeyboardInterrupt\u001b[0m                         Traceback (most recent call last)",
      "Cell \u001b[1;32mIn[20], line 63\u001b[0m\n\u001b[0;32m     60\u001b[0m best_reward \u001b[39m=\u001b[39m top_k[\u001b[39m0\u001b[39m][\u001b[39m1\u001b[39m]\n\u001b[0;32m     62\u001b[0m data \u001b[39m=\u001b[39m get_training_data(top_k, N, device)\n\u001b[1;32m---> 63\u001b[0m losses \u001b[39m=\u001b[39m [train_epoch(data, model, criterion, optimizer, N) \u001b[39mfor\u001b[39;00m _ \u001b[39min\u001b[39;00m \u001b[39mrange\u001b[39m(N_ITER)]\n\u001b[0;32m     65\u001b[0m tq\u001b[39m.\u001b[39mset_description(\u001b[39mf\u001b[39m\u001b[39m'\u001b[39m\u001b[39mloss.: \u001b[39m\u001b[39m{\u001b[39;00mnp\u001b[39m.\u001b[39mmean(losses)\u001b[39m:\u001b[39;00m\u001b[39m.4f\u001b[39m\u001b[39m}\u001b[39;00m\u001b[39m best reward.: \u001b[39m\u001b[39m{\u001b[39;00mbest_reward\u001b[39m}\u001b[39;00m\u001b[39m'\u001b[39m)\n\u001b[0;32m     67\u001b[0m rollouts \u001b[39m=\u001b[39m rollouts[:N_ROLLOUTS \u001b[39m*\u001b[39m \u001b[39m4\u001b[39m]\n",
      "Cell \u001b[1;32mIn[20], line 63\u001b[0m, in \u001b[0;36m<listcomp>\u001b[1;34m(.0)\u001b[0m\n\u001b[0;32m     60\u001b[0m best_reward \u001b[39m=\u001b[39m top_k[\u001b[39m0\u001b[39m][\u001b[39m1\u001b[39m]\n\u001b[0;32m     62\u001b[0m data \u001b[39m=\u001b[39m get_training_data(top_k, N, device)\n\u001b[1;32m---> 63\u001b[0m losses \u001b[39m=\u001b[39m [train_epoch(data, model, criterion, optimizer, N) \u001b[39mfor\u001b[39;00m _ \u001b[39min\u001b[39;00m \u001b[39mrange\u001b[39m(N_ITER)]\n\u001b[0;32m     65\u001b[0m tq\u001b[39m.\u001b[39mset_description(\u001b[39mf\u001b[39m\u001b[39m'\u001b[39m\u001b[39mloss.: \u001b[39m\u001b[39m{\u001b[39;00mnp\u001b[39m.\u001b[39mmean(losses)\u001b[39m:\u001b[39;00m\u001b[39m.4f\u001b[39m\u001b[39m}\u001b[39;00m\u001b[39m best reward.: \u001b[39m\u001b[39m{\u001b[39;00mbest_reward\u001b[39m}\u001b[39;00m\u001b[39m'\u001b[39m)\n\u001b[0;32m     67\u001b[0m rollouts \u001b[39m=\u001b[39m rollouts[:N_ROLLOUTS \u001b[39m*\u001b[39m \u001b[39m4\u001b[39m]\n",
      "Cell \u001b[1;32mIn[20], line 46\u001b[0m, in \u001b[0;36mtrain_epoch\u001b[1;34m(data, model, criterion, optimizer, N)\u001b[0m\n\u001b[0;32m     44\u001b[0m \u001b[39mfor\u001b[39;00m X, y \u001b[39min\u001b[39;00m data:\n\u001b[0;32m     45\u001b[0m     optimizer\u001b[39m.\u001b[39mzero_grad()\n\u001b[1;32m---> 46\u001b[0m     output \u001b[39m=\u001b[39m model(X\u001b[39m.\u001b[39;49mreshape((\u001b[39m2\u001b[39;49m \u001b[39m*\u001b[39;49m N, \u001b[39m1\u001b[39;49m, N, N)))\u001b[39m.\u001b[39mreshape((\u001b[39m2\u001b[39m \u001b[39m*\u001b[39m N, N, N))\n\u001b[0;32m     47\u001b[0m     loss \u001b[39m=\u001b[39m criterion(output, y)\n\u001b[0;32m     48\u001b[0m     loss\u001b[39m.\u001b[39mbackward()\n",
      "File \u001b[1;32mc:\\Users\\erikj\\AppData\\Local\\Programs\\Python\\Python310\\lib\\site-packages\\torch\\nn\\modules\\module.py:1501\u001b[0m, in \u001b[0;36mModule._call_impl\u001b[1;34m(self, *args, **kwargs)\u001b[0m\n\u001b[0;32m   1496\u001b[0m \u001b[39m# If we don't have any hooks, we want to skip the rest of the logic in\u001b[39;00m\n\u001b[0;32m   1497\u001b[0m \u001b[39m# this function, and just call forward.\u001b[39;00m\n\u001b[0;32m   1498\u001b[0m \u001b[39mif\u001b[39;00m \u001b[39mnot\u001b[39;00m (\u001b[39mself\u001b[39m\u001b[39m.\u001b[39m_backward_hooks \u001b[39mor\u001b[39;00m \u001b[39mself\u001b[39m\u001b[39m.\u001b[39m_backward_pre_hooks \u001b[39mor\u001b[39;00m \u001b[39mself\u001b[39m\u001b[39m.\u001b[39m_forward_hooks \u001b[39mor\u001b[39;00m \u001b[39mself\u001b[39m\u001b[39m.\u001b[39m_forward_pre_hooks\n\u001b[0;32m   1499\u001b[0m         \u001b[39mor\u001b[39;00m _global_backward_pre_hooks \u001b[39mor\u001b[39;00m _global_backward_hooks\n\u001b[0;32m   1500\u001b[0m         \u001b[39mor\u001b[39;00m _global_forward_hooks \u001b[39mor\u001b[39;00m _global_forward_pre_hooks):\n\u001b[1;32m-> 1501\u001b[0m     \u001b[39mreturn\u001b[39;00m forward_call(\u001b[39m*\u001b[39margs, \u001b[39m*\u001b[39m\u001b[39m*\u001b[39mkwargs)\n\u001b[0;32m   1502\u001b[0m \u001b[39m# Do not call functions when jit is used\u001b[39;00m\n\u001b[0;32m   1503\u001b[0m full_backward_hooks, non_full_backward_hooks \u001b[39m=\u001b[39m [], []\n",
      "Cell \u001b[1;32mIn[19], line 14\u001b[0m, in \u001b[0;36mGenerator.forward\u001b[1;34m(self, x)\u001b[0m\n\u001b[0;32m     12\u001b[0m x \u001b[39m=\u001b[39m torch\u001b[39m.\u001b[39mrelu(\u001b[39mself\u001b[39m\u001b[39m.\u001b[39mconv1(x))\n\u001b[0;32m     13\u001b[0m x \u001b[39m=\u001b[39m torch\u001b[39m.\u001b[39mrelu(\u001b[39mself\u001b[39m\u001b[39m.\u001b[39mconv2(x))\n\u001b[1;32m---> 14\u001b[0m x \u001b[39m=\u001b[39m torch\u001b[39m.\u001b[39mrelu(\u001b[39mself\u001b[39;49m\u001b[39m.\u001b[39;49mconv3(x))\n\u001b[0;32m     15\u001b[0m x \u001b[39m=\u001b[39m \u001b[39mself\u001b[39m\u001b[39m.\u001b[39mflatten(x)\n\u001b[0;32m     16\u001b[0m x \u001b[39m=\u001b[39m \u001b[39mself\u001b[39m\u001b[39m.\u001b[39mdropout(x)\n",
      "File \u001b[1;32mc:\\Users\\erikj\\AppData\\Local\\Programs\\Python\\Python310\\lib\\site-packages\\torch\\nn\\modules\\module.py:1501\u001b[0m, in \u001b[0;36mModule._call_impl\u001b[1;34m(self, *args, **kwargs)\u001b[0m\n\u001b[0;32m   1496\u001b[0m \u001b[39m# If we don't have any hooks, we want to skip the rest of the logic in\u001b[39;00m\n\u001b[0;32m   1497\u001b[0m \u001b[39m# this function, and just call forward.\u001b[39;00m\n\u001b[0;32m   1498\u001b[0m \u001b[39mif\u001b[39;00m \u001b[39mnot\u001b[39;00m (\u001b[39mself\u001b[39m\u001b[39m.\u001b[39m_backward_hooks \u001b[39mor\u001b[39;00m \u001b[39mself\u001b[39m\u001b[39m.\u001b[39m_backward_pre_hooks \u001b[39mor\u001b[39;00m \u001b[39mself\u001b[39m\u001b[39m.\u001b[39m_forward_hooks \u001b[39mor\u001b[39;00m \u001b[39mself\u001b[39m\u001b[39m.\u001b[39m_forward_pre_hooks\n\u001b[0;32m   1499\u001b[0m         \u001b[39mor\u001b[39;00m _global_backward_pre_hooks \u001b[39mor\u001b[39;00m _global_backward_hooks\n\u001b[0;32m   1500\u001b[0m         \u001b[39mor\u001b[39;00m _global_forward_hooks \u001b[39mor\u001b[39;00m _global_forward_pre_hooks):\n\u001b[1;32m-> 1501\u001b[0m     \u001b[39mreturn\u001b[39;00m forward_call(\u001b[39m*\u001b[39margs, \u001b[39m*\u001b[39m\u001b[39m*\u001b[39mkwargs)\n\u001b[0;32m   1502\u001b[0m \u001b[39m# Do not call functions when jit is used\u001b[39;00m\n\u001b[0;32m   1503\u001b[0m full_backward_hooks, non_full_backward_hooks \u001b[39m=\u001b[39m [], []\n",
      "File \u001b[1;32mc:\\Users\\erikj\\AppData\\Local\\Programs\\Python\\Python310\\lib\\site-packages\\torch\\nn\\modules\\conv.py:463\u001b[0m, in \u001b[0;36mConv2d.forward\u001b[1;34m(self, input)\u001b[0m\n\u001b[0;32m    462\u001b[0m \u001b[39mdef\u001b[39;00m \u001b[39mforward\u001b[39m(\u001b[39mself\u001b[39m, \u001b[39minput\u001b[39m: Tensor) \u001b[39m-\u001b[39m\u001b[39m>\u001b[39m Tensor:\n\u001b[1;32m--> 463\u001b[0m     \u001b[39mreturn\u001b[39;00m \u001b[39mself\u001b[39;49m\u001b[39m.\u001b[39;49m_conv_forward(\u001b[39minput\u001b[39;49m, \u001b[39mself\u001b[39;49m\u001b[39m.\u001b[39;49mweight, \u001b[39mself\u001b[39;49m\u001b[39m.\u001b[39;49mbias)\n",
      "File \u001b[1;32mc:\\Users\\erikj\\AppData\\Local\\Programs\\Python\\Python310\\lib\\site-packages\\torch\\nn\\modules\\conv.py:459\u001b[0m, in \u001b[0;36mConv2d._conv_forward\u001b[1;34m(self, input, weight, bias)\u001b[0m\n\u001b[0;32m    455\u001b[0m \u001b[39mif\u001b[39;00m \u001b[39mself\u001b[39m\u001b[39m.\u001b[39mpadding_mode \u001b[39m!=\u001b[39m \u001b[39m'\u001b[39m\u001b[39mzeros\u001b[39m\u001b[39m'\u001b[39m:\n\u001b[0;32m    456\u001b[0m     \u001b[39mreturn\u001b[39;00m F\u001b[39m.\u001b[39mconv2d(F\u001b[39m.\u001b[39mpad(\u001b[39minput\u001b[39m, \u001b[39mself\u001b[39m\u001b[39m.\u001b[39m_reversed_padding_repeated_twice, mode\u001b[39m=\u001b[39m\u001b[39mself\u001b[39m\u001b[39m.\u001b[39mpadding_mode),\n\u001b[0;32m    457\u001b[0m                     weight, bias, \u001b[39mself\u001b[39m\u001b[39m.\u001b[39mstride,\n\u001b[0;32m    458\u001b[0m                     _pair(\u001b[39m0\u001b[39m), \u001b[39mself\u001b[39m\u001b[39m.\u001b[39mdilation, \u001b[39mself\u001b[39m\u001b[39m.\u001b[39mgroups)\n\u001b[1;32m--> 459\u001b[0m \u001b[39mreturn\u001b[39;00m F\u001b[39m.\u001b[39;49mconv2d(\u001b[39minput\u001b[39;49m, weight, bias, \u001b[39mself\u001b[39;49m\u001b[39m.\u001b[39;49mstride,\n\u001b[0;32m    460\u001b[0m                 \u001b[39mself\u001b[39;49m\u001b[39m.\u001b[39;49mpadding, \u001b[39mself\u001b[39;49m\u001b[39m.\u001b[39;49mdilation, \u001b[39mself\u001b[39;49m\u001b[39m.\u001b[39;49mgroups)\n",
      "\u001b[1;31mKeyboardInterrupt\u001b[0m: "
     ]
    }
   ],
   "source": [
    "device = 'cuda' if torch.cuda.is_available() else 'cpu'\n",
    "print(f'{device = }')\n",
    "\n",
    "model = Generator().to(device)\n",
    "optimizer = optim.Adam(model.parameters(), lr=LEARNING_RATE)\n",
    "criterion = nn.CrossEntropyLoss()\n",
    "\n",
    "def calculate_reward(state_list):\n",
    "    reward=0\n",
    "    weight=1\n",
    "    for state in state_list:\n",
    "        state=state.reshape((N, N))\n",
    "        reward+=no3inline.calculate_reward(state)*weight\n",
    "        weight*=0.9\n",
    "    return reward\n",
    "\n",
    "def generate_rollout(model, N, device):\n",
    "    states = [torch.zeros((N * N)).float()]\n",
    "    \n",
    "    for _ in range(2 * N):\n",
    "        next_state_probabilities = model(states[-1].reshape((1, N, N)).to(device)).cpu().detach()[0]\n",
    "        next_state_probabilities[states[-1] == 1.0] = float('-inf')\n",
    "        next_state_probabilities = torch.softmax(torch.flatten(next_state_probabilities), dim=-1)\n",
    "        \n",
    "        action = torch.multinomial(next_state_probabilities, num_samples=1).item()\n",
    "        new_state = states[-1].clone()\n",
    "        new_state[action] = 1\n",
    "        \n",
    "        states.append(new_state)\n",
    "    reward = calculate_reward(states)\n",
    "    return states, reward\n",
    "\n",
    "def get_training_data(top_k, N, device):\n",
    "    return [\n",
    "        tensor_from_rollout(rollout[0], N).to(device)\n",
    "        for rollout in top_k\n",
    "    ]\n",
    "\n",
    "def tensor_from_rollout(rollout, N):\n",
    "    stack = torch.stack(rollout).reshape((len(rollout), N, N))\n",
    "    tensor_list = torch.zeros((2, len(rollout) - 1, N, N))\n",
    "    tensor_list[0] = stack[:-1]\n",
    "    tensor_list[1] = stack[1:]\n",
    "    return tensor_list\n",
    "\n",
    "def train_epoch(data, model, criterion, optimizer, N):\n",
    "    epoch_loss = []\n",
    "    for X, y in data:\n",
    "        optimizer.zero_grad()\n",
    "        output = model(X.reshape((2 * N, 1, N, N))).reshape((2 * N, N, N))\n",
    "        loss = criterion(output, y)\n",
    "        loss.backward()\n",
    "        optimizer.step()\n",
    "        epoch_loss.append(loss.item())\n",
    "    return np.mean(epoch_loss)\n",
    "\n",
    "rollouts = []\n",
    "tq = tqdm.trange(N_EPOCHS)\n",
    "for _ in tq:\n",
    "    rollouts.extend([generate_rollout(model, N, device) for _ in range(N_ROLLOUTS)])\n",
    "    rollouts.sort(key=lambda x: x[1])\n",
    "    \n",
    "    top_k = rollouts[:int(N_ROLLOUTS * TOP_K_PERCENT)]\n",
    "    best_reward = top_k[0][1]\n",
    "    \n",
    "    data = get_training_data(top_k, N, device)\n",
    "    losses = [train_epoch(data, model, criterion, optimizer, N) for _ in range(N_ITER)]\n",
    "    \n",
    "    tq.set_description(f'Loss.: {np.mean(losses):.4f} Best reward.: {best_reward:.4f} Number of lines taken out.: {no3inline.calculate_reward(top_k[0][0][-1].reshape((N,N)))}')\n",
    "    clear_output(wait=True)\n",
    "    visualize.visualize_grid(top_k[0][0][-1].reshape((N,N)))\n",
    "    rollouts = rollouts[:N_ROLLOUTS * 4]"
   ]
  }
 ],
 "metadata": {
  "kernelspec": {
   "display_name": "Python 3",
   "language": "python",
   "name": "python3"
  },
  "language_info": {
   "codemirror_mode": {
    "name": "ipython",
    "version": 3
   },
   "file_extension": ".py",
   "mimetype": "text/x-python",
   "name": "python",
   "nbconvert_exporter": "python",
   "pygments_lexer": "ipython3",
   "version": "3.10.11"
  },
  "orig_nbformat": 4
 },
 "nbformat": 4,
 "nbformat_minor": 2
}
