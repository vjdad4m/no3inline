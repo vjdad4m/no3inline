{
 "cells": [
  {
   "cell_type": "code",
   "execution_count": null,
   "metadata": {},
   "outputs": [],
   "source": [
    "import torch\n",
    "\n",
    "class MaskedLogitNetwork(torch.nn.Module):\n",
    "    def __init__(self, logit_model):\n",
    "        super(MaskedLogitNetwork, self).__init__()\n",
    "\n",
    "        # Initialize mask and apply it to the weights\n",
    "        self.logit_model = logit_model\n",
    "\n",
    "    def forward(self, x):\n",
    "        unmasked_logits = logit_model(x)\n",
    "        return (unmasked_logits - torch.exp(1000*x)).flatten(1)"
   ]
  },
  {
   "cell_type": "code",
   "execution_count": null,
   "metadata": {},
   "outputs": [],
   "source": [
    "from torch.nn import Conv2d, Sequential, ReLU\n",
    "\n",
    "logit_model = Sequential(\n",
    "    Conv2d(1, 64, 3, padding=1),\n",
    "    ReLU(),\n",
    "    Conv2d(64, 64, 3, padding=1),\n",
    "    ReLU(),\n",
    "    Conv2d(64, 1, 3, padding=1)\n",
    ")\n",
    "\n",
    "model = MaskedLogitNetwork(logit_model)\n",
    "\n",
    "model.to('cuda')"
   ]
  },
  {
   "cell_type": "code",
   "execution_count": null,
   "metadata": {},
   "outputs": [],
   "source": [
    "from torch.nn.functional import softmax\n",
    "from torch.distributions import Categorical\n",
    "\n",
    "def place_point(x, model, grid_size=5):\n",
    "  with torch.no_grad():\n",
    "    logits = model(x)\n",
    "    p = softmax(logits, dim=-1)\n",
    "    index = Categorical(p).sample()\n",
    "    row_index = index//grid_size\n",
    "    col_index = index%grid_size\n",
    "    row_select = row_index[:, None, None, None] == torch.arange(grid_size, device='cuda')[None, None, :, None]\n",
    "    col_select = col_index[:, None, None, None] == torch.arange(grid_size, device='cuda')[None, None, None, :]\n",
    "    x.add_(2*row_select*col_select)\n",
    "    return row_index, col_index"
   ]
  },
  {
   "cell_type": "code",
   "execution_count": null,
   "metadata": {},
   "outputs": [],
   "source": [
    "def generate_pointset(model, num_samples, grid_size, num_points, device='cuda'):\n",
    "  samples = -1*torch.ones((num_samples, 1, grid_size, grid_size), device=device)\n",
    "  indices = torch.zeros((num_samples, num_points, 2), device=device, dtype=torch.long)\n",
    "  for i in range(num_points):\n",
    "    row_index, col_index = place_point(samples, model, grid_size=grid_size)\n",
    "    indices[:, i, 0]=row_index\n",
    "    indices[:, i, 1]=col_index\n",
    "  return samples, indices"
   ]
  },
  {
   "cell_type": "code",
   "execution_count": null,
   "metadata": {},
   "outputs": [],
   "source": [
    "samples, indices = generate_pointset(model, num_samples=100, grid_size=5, num_points=10)"
   ]
  },
  {
   "cell_type": "code",
   "execution_count": null,
   "metadata": {},
   "outputs": [],
   "source": [
    "from torch.nn import CrossEntropyLoss\n",
    "\n",
    "cross_entropy = CrossEntropyLoss()\n",
    "def calculate_loss(model, indices, grid_size, device='cuda'):\n",
    "  num_samples, num_points,_ = indices.shape\n",
    "  samples = -1*torch.ones((num_samples, 1, grid_size, grid_size), device=device)\n",
    "  loss = torch.tensor(0.0, device=device)\n",
    "  for i in range(num_points):\n",
    "    logits = model(samples)\n",
    "    loss+=cross_entropy(logits, indices[:, i, 0]*5+indices[:, i, 1])\n",
    "    with torch.no_grad():\n",
    "      row_select = indices[:, i:i+1, 0:1, None] == torch.arange(grid_size, device=device)[None, None, :, None]\n",
    "      col_select = indices[:, i:i+1, 1:][:, :, None, :] == torch.arange(grid_size, device=device)[None, None, None, :]\n",
    "      samples.add_(row_select*col_select)\n",
    "  return loss"
   ]
  },
  {
   "cell_type": "code",
   "execution_count": null,
   "metadata": {},
   "outputs": [],
   "source": [
    "calculate_loss(model, indices, grid_size=5)"
   ]
  }
 ],
 "metadata": {
  "language_info": {
   "name": "python"
  },
  "orig_nbformat": 4
 },
 "nbformat": 4,
 "nbformat_minor": 2
}
